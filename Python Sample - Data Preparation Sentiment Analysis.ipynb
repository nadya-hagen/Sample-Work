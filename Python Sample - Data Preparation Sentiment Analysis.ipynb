{
 "cells": [
  {
   "cell_type": "markdown",
   "metadata": {},
   "source": [
    "# Predictive Analytics Assignment Group 17\n",
    "##### Group Members:\n",
    "| Name | SNR |\n",
    "| :---- | :--- |\n",
    "|Nadya Hagen | 2049115 |\n",
    "| Kenéz Kovács | 2040678 |\n",
    "| Aryo Bimo Nugroho | 2039696 |\n",
    "| Sheva Sonia Rahmani | 2075109 |"
   ]
  },
  {
   "cell_type": "markdown",
   "metadata": {},
   "source": [
    "### Data Preparation\n",
    "We executed the date separation in excel through the DAY(), MONTH(), and YEAR() functions and named the columns 'tweetday', 'tweetmonth', 'tweetyear'. Since some steps were done by the means of excel, the code written here will not generate the exact same output as the data we use in creating our model as excel was used inbetween steps done in Python."
   ]
  },
  {
   "cell_type": "markdown",
   "metadata": {},
   "source": [
    "#### Data preparation and manipulation – Dogecoin price movement direction\n",
    "Here we create the dataset containing the direction of the movement of Dogecoin's price. We do this by means of assigning binary values to a .csv column"
   ]
  },
  {
   "cell_type": "code",
   "execution_count": 3,
   "metadata": {},
   "outputs": [
    {
     "data": {
      "text/plain": [
       "0       0\n",
       "1       1\n",
       "2       0\n",
       "3       1\n",
       "4       0\n",
       "       ..\n",
       "1756    1\n",
       "1757    0\n",
       "1758    1\n",
       "1759    0\n",
       "1760    0\n",
       "Name: direction, Length: 1761, dtype: int64"
      ]
     },
     "execution_count": 3,
     "metadata": {},
     "output_type": "execute_result"
    }
   ],
   "source": [
    "import pandas as pd\n",
    "dc_raw = pd.read_csv('DOGE-USD.csv', delimiter = ',')\n",
    "dc_raw['movement'] = dc_raw['Open'] - dc_raw['Close']\n",
    "dc_raw['direction'] = dc_raw['movement'].gt(0).astype(int)\n",
    "\n",
    "# Dataset containing the direction of the movement of dogecoin's price created in 'dc' \n",
    "dc_raw['movement']\n",
    "dc_raw['direction']"
   ]
  },
  {
   "cell_type": "markdown",
   "metadata": {},
   "source": [
    "#### Data preparation and manipulation – Elon Musk's tweets concatenating files\n",
    "Here we create the main dataset for Elon Musk's tweets as the tweets have been separated per year into different .csv files"
   ]
  },
  {
   "cell_type": "code",
   "execution_count": 5,
   "metadata": {},
   "outputs": [],
   "source": [
    "# Creating the dataset containing Elon Musk's tweets\n",
    "nineteen = pd.read_csv('2019.csv', delimiter = ',')\n",
    "twenty = pd.read_csv('2020.csv', delimiter = ',')\n",
    "twentyone = pd.read_csv('2021.csv', delimiter = ',')\n",
    "twentytwo = pd.read_csv('2022.csv', delimiter = ',')\n",
    "\n",
    "# Concatenating the .csv files into one singular file\n",
    "alltime = [twentytwo, twentyone, twenty]\n",
    "alltweets = pd.concat(alltime)"
   ]
  },
  {
   "cell_type": "markdown",
   "metadata": {},
   "source": [
    "#### Data preparation and manipulation – Merging the two .csv files into one .csv file"
   ]
  },
  {
   "cell_type": "code",
   "execution_count": null,
   "metadata": {},
   "outputs": [],
   "source": [
    "# Creating the columns 'tweetday', 'tweetmonth', etc. using excel.\n",
    "alltweets = pd.read_csv('alltweets.csv', delimiter = ',')\n",
    "dogecoin = pd.read_csv('dogecoin.csv', delimiter = ',')\n",
    "# merging the two dataframes\n",
    "data = pd.merge(alltweets, dogecoin, how ='left', left_on = ['tweetday','tweetmonth','tweetyear'], right_on = ['day','month','year'])"
   ]
  },
  {
   "cell_type": "markdown",
   "metadata": {},
   "source": [
    "### Saving the file locally"
   ]
  },
  {
   "cell_type": "code",
   "execution_count": null,
   "metadata": {},
   "outputs": [],
   "source": [
    "data.to_csv(data_assignment) #Save the data in the data_assignment file"
   ]
  }
 ],
 "metadata": {
  "kernelspec": {
   "display_name": "Python 3 (ipykernel)",
   "language": "python",
   "name": "python3"
  },
  "language_info": {
   "codemirror_mode": {
    "name": "ipython",
    "version": 3
   },
   "file_extension": ".py",
   "mimetype": "text/x-python",
   "name": "python",
   "nbconvert_exporter": "python",
   "pygments_lexer": "ipython3",
   "version": "3.11.5"
  }
 },
 "nbformat": 4,
 "nbformat_minor": 4
}
